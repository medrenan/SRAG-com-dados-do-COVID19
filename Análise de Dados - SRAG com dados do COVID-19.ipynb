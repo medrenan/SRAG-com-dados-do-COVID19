{
 "cells": [
  {
   "cell_type": "markdown",
   "metadata": {},
   "source": [
    "<b>Este trabalho foi realizado por Renan Alves de Medeiros e Nicolas Cursino Magarifuchi </b>\n",
    "\n",
    "<b>Os dados utilizados estão presntes no site https://opendatasus.saude.gov.br/dataset/bd-srag-2020</b>\n",
    "\n",
    "<b>Aviso Legal: Este notebook tem como finalidade apenas o estudo, deste modo não há garantia de qualquer tipo de precisão, confiabilidade ou atualidade das informações.\n",
    "</b>"
   ]
  },
  {
   "cell_type": "code",
   "execution_count": 1,
   "metadata": {},
   "outputs": [],
   "source": [
    "import pandas as pd\n",
    "low_memory = False\n",
    "%matplotlib inline\n",
    "pd.options.display.max_columns = 80\n",
    "pd.options.display.max_rows = 90"
   ]
  },
  {
   "cell_type": "code",
   "execution_count": 2,
   "metadata": {},
   "outputs": [],
   "source": [
    "file = r'C:\\Users\\renan\\INFLUD-30-06-2020.csv'\n",
    "df = pd.read_csv(file, delimiter=';',\n",
    "                 encoding = 'ISO-8859-1',\n",
    "                 error_bad_lines = False,\n",
    "                 \n",
    "                 # Define as colunas a serem utilizadas na análise.\n",
    "                 \n",
    "                 usecols=['CS_SEXO', 'NU_IDADE_N', 'CS_RACA', 'CS_ESCOL_N', 'SG_UF', 'CLASSI_FIN', 'EVOLUCAO'])"
   ]
  },
  {
   "cell_type": "code",
   "execution_count": 3,
   "metadata": {},
   "outputs": [
    {
     "name": "stdout",
     "output_type": "stream",
     "text": [
      "0 CS_SEXO\n",
      "1 NU_IDADE_N\n",
      "2 CS_RACA\n",
      "3 CS_ESCOL_N\n",
      "4 SG_UF\n",
      "5 CLASSI_FIN\n",
      "6 EVOLUCAO\n"
     ]
    }
   ],
   "source": [
    "# Colunas da tabela que serão utilizadas.\n",
    "\n",
    "for k in range(len(df.columns)):\n",
    "    print (k, df.columns[k])"
   ]
  },
  {
   "cell_type": "code",
   "execution_count": 4,
   "metadata": {},
   "outputs": [],
   "source": [
    "# Atribui a correspondência dos códigos de raça, escolaridade, classificação final da síndrome respiratória e evolução dos casos para seus respectivos valores.\n",
    "\n",
    "troca_raça = {1:'Branca', 2:'Preta', 3:'Amarela',\n",
    "              4:'Parda', 5:'Indígena', 9:'Ignorado'}\n",
    "\n",
    "troca_escolaridade = {0:'Sem', 1:'Fund1', \n",
    "                      2:'Fund2', 3:'Médio',\n",
    "                      4:'Superior', \n",
    "                      5:'Não se aplica',\n",
    "                      9:'Ignorado'}\n",
    "\n",
    "troca_classificação = {1:'SRAG por influenza',\n",
    "                       2: 'SRAG por outro vírus respiratório',\n",
    "                       3: 'SRAG por outro agente Etiológico',\n",
    "                       4: 'SRAG não especificado',\n",
    "                       5: 'COVID-19'}\n",
    "\n",
    "troca_evolução = {1:'Cura', 2:'Óbito', 9:'Ignorado'}"
   ]
  },
  {
   "cell_type": "code",
   "execution_count": 5,
   "metadata": {},
   "outputs": [],
   "source": [
    "# Aloca os valores dos dicionários dentro dos códigos das colunas de raças, escolaridade, classificação final da síndrome respiratória e evolução dos casos.\n",
    "\n",
    "df.loc[(df.CS_RACA.isnull()), 'CS_RACA'] = 9\n",
    "df['CS_RACA'] = df['CS_RACA'].apply(lambda x: troca_raça[x])\n",
    "\n",
    "df.loc[(df.CS_ESCOL_N.isnull()), 'CS_ESCOL_N'] = 9\n",
    "df['CS_ESCOL_N'] = df['CS_ESCOL_N'].apply(lambda x: troca_escolaridade[x])\n",
    "\n",
    "df.loc[(df.CLASSI_FIN.isnull()), 'CLASSI_FIN'] = 4\n",
    "df['CLASSI_FIN'] = df['CLASSI_FIN'].apply(lambda x: troca_classificação[x])\n",
    "\n",
    "df.loc[(df.EVOLUCAO.isnull()), 'EVOLUCAO'] = 9\n",
    "df['EVOLUCAO'] = df['EVOLUCAO'].apply(lambda x: troca_evolução[x])"
   ]
  },
  {
   "cell_type": "code",
   "execution_count": 6,
   "metadata": {},
   "outputs": [
    {
     "data": {
      "text/html": [
       "<div>\n",
       "<style scoped>\n",
       "    .dataframe tbody tr th:only-of-type {\n",
       "        vertical-align: middle;\n",
       "    }\n",
       "\n",
       "    .dataframe tbody tr th {\n",
       "        vertical-align: top;\n",
       "    }\n",
       "\n",
       "    .dataframe thead th {\n",
       "        text-align: right;\n",
       "    }\n",
       "</style>\n",
       "<table border=\"1\" class=\"dataframe\">\n",
       "  <thead>\n",
       "    <tr style=\"text-align: right;\">\n",
       "      <th></th>\n",
       "      <th>CS_SEXO</th>\n",
       "      <th>NU_IDADE_N</th>\n",
       "      <th>CS_RACA</th>\n",
       "      <th>CS_ESCOL_N</th>\n",
       "      <th>SG_UF</th>\n",
       "      <th>CLASSI_FIN</th>\n",
       "      <th>EVOLUCAO</th>\n",
       "    </tr>\n",
       "  </thead>\n",
       "  <tbody>\n",
       "    <tr>\n",
       "      <th>106793</th>\n",
       "      <td>M</td>\n",
       "      <td>1</td>\n",
       "      <td>Ignorado</td>\n",
       "      <td>Não se aplica</td>\n",
       "      <td>SP</td>\n",
       "      <td>SRAG não especificado</td>\n",
       "      <td>Cura</td>\n",
       "    </tr>\n",
       "    <tr>\n",
       "      <th>9993</th>\n",
       "      <td>M</td>\n",
       "      <td>2</td>\n",
       "      <td>Branca</td>\n",
       "      <td>Não se aplica</td>\n",
       "      <td>MT</td>\n",
       "      <td>SRAG não especificado</td>\n",
       "      <td>Cura</td>\n",
       "    </tr>\n",
       "    <tr>\n",
       "      <th>155617</th>\n",
       "      <td>M</td>\n",
       "      <td>6</td>\n",
       "      <td>Branca</td>\n",
       "      <td>Não se aplica</td>\n",
       "      <td>PR</td>\n",
       "      <td>SRAG por outro vírus respiratório</td>\n",
       "      <td>Cura</td>\n",
       "    </tr>\n",
       "    <tr>\n",
       "      <th>286318</th>\n",
       "      <td>F</td>\n",
       "      <td>16</td>\n",
       "      <td>Parda</td>\n",
       "      <td>Médio</td>\n",
       "      <td>AM</td>\n",
       "      <td>COVID-19</td>\n",
       "      <td>Cura</td>\n",
       "    </tr>\n",
       "    <tr>\n",
       "      <th>50941</th>\n",
       "      <td>F</td>\n",
       "      <td>23</td>\n",
       "      <td>Branca</td>\n",
       "      <td>Superior</td>\n",
       "      <td>SP</td>\n",
       "      <td>COVID-19</td>\n",
       "      <td>Cura</td>\n",
       "    </tr>\n",
       "    <tr>\n",
       "      <th>295481</th>\n",
       "      <td>M</td>\n",
       "      <td>23</td>\n",
       "      <td>Parda</td>\n",
       "      <td>Ignorado</td>\n",
       "      <td>AM</td>\n",
       "      <td>COVID-19</td>\n",
       "      <td>Cura</td>\n",
       "    </tr>\n",
       "    <tr>\n",
       "      <th>64325</th>\n",
       "      <td>M</td>\n",
       "      <td>31</td>\n",
       "      <td>Branca</td>\n",
       "      <td>Ignorado</td>\n",
       "      <td>SP</td>\n",
       "      <td>SRAG não especificado</td>\n",
       "      <td>Cura</td>\n",
       "    </tr>\n",
       "    <tr>\n",
       "      <th>127141</th>\n",
       "      <td>M</td>\n",
       "      <td>33</td>\n",
       "      <td>Ignorado</td>\n",
       "      <td>Ignorado</td>\n",
       "      <td>ES</td>\n",
       "      <td>SRAG não especificado</td>\n",
       "      <td>Ignorado</td>\n",
       "    </tr>\n",
       "    <tr>\n",
       "      <th>162618</th>\n",
       "      <td>F</td>\n",
       "      <td>34</td>\n",
       "      <td>Ignorado</td>\n",
       "      <td>Ignorado</td>\n",
       "      <td>RJ</td>\n",
       "      <td>COVID-19</td>\n",
       "      <td>Cura</td>\n",
       "    </tr>\n",
       "    <tr>\n",
       "      <th>343858</th>\n",
       "      <td>F</td>\n",
       "      <td>35</td>\n",
       "      <td>Branca</td>\n",
       "      <td>Superior</td>\n",
       "      <td>RS</td>\n",
       "      <td>SRAG não especificado</td>\n",
       "      <td>Ignorado</td>\n",
       "    </tr>\n",
       "    <tr>\n",
       "      <th>91888</th>\n",
       "      <td>M</td>\n",
       "      <td>36</td>\n",
       "      <td>Branca</td>\n",
       "      <td>Ignorado</td>\n",
       "      <td>SP</td>\n",
       "      <td>COVID-19</td>\n",
       "      <td>Cura</td>\n",
       "    </tr>\n",
       "    <tr>\n",
       "      <th>31286</th>\n",
       "      <td>M</td>\n",
       "      <td>36</td>\n",
       "      <td>Branca</td>\n",
       "      <td>Superior</td>\n",
       "      <td>SP</td>\n",
       "      <td>COVID-19</td>\n",
       "      <td>Cura</td>\n",
       "    </tr>\n",
       "    <tr>\n",
       "      <th>355173</th>\n",
       "      <td>F</td>\n",
       "      <td>38</td>\n",
       "      <td>Ignorado</td>\n",
       "      <td>Ignorado</td>\n",
       "      <td>MG</td>\n",
       "      <td>SRAG não especificado</td>\n",
       "      <td>Ignorado</td>\n",
       "    </tr>\n",
       "    <tr>\n",
       "      <th>44292</th>\n",
       "      <td>M</td>\n",
       "      <td>39</td>\n",
       "      <td>Ignorado</td>\n",
       "      <td>Ignorado</td>\n",
       "      <td>PR</td>\n",
       "      <td>SRAG não especificado</td>\n",
       "      <td>Cura</td>\n",
       "    </tr>\n",
       "    <tr>\n",
       "      <th>180753</th>\n",
       "      <td>F</td>\n",
       "      <td>43</td>\n",
       "      <td>Parda</td>\n",
       "      <td>Ignorado</td>\n",
       "      <td>PA</td>\n",
       "      <td>COVID-19</td>\n",
       "      <td>Cura</td>\n",
       "    </tr>\n",
       "    <tr>\n",
       "      <th>353344</th>\n",
       "      <td>F</td>\n",
       "      <td>43</td>\n",
       "      <td>Ignorado</td>\n",
       "      <td>Ignorado</td>\n",
       "      <td>SP</td>\n",
       "      <td>COVID-19</td>\n",
       "      <td>Ignorado</td>\n",
       "    </tr>\n",
       "    <tr>\n",
       "      <th>73576</th>\n",
       "      <td>M</td>\n",
       "      <td>49</td>\n",
       "      <td>Branca</td>\n",
       "      <td>Superior</td>\n",
       "      <td>SP</td>\n",
       "      <td>COVID-19</td>\n",
       "      <td>Cura</td>\n",
       "    </tr>\n",
       "    <tr>\n",
       "      <th>311642</th>\n",
       "      <td>M</td>\n",
       "      <td>50</td>\n",
       "      <td>Branca</td>\n",
       "      <td>Fund2</td>\n",
       "      <td>MT</td>\n",
       "      <td>COVID-19</td>\n",
       "      <td>Ignorado</td>\n",
       "    </tr>\n",
       "    <tr>\n",
       "      <th>272170</th>\n",
       "      <td>M</td>\n",
       "      <td>50</td>\n",
       "      <td>Branca</td>\n",
       "      <td>Sem</td>\n",
       "      <td>RS</td>\n",
       "      <td>COVID-19</td>\n",
       "      <td>Óbito</td>\n",
       "    </tr>\n",
       "    <tr>\n",
       "      <th>168195</th>\n",
       "      <td>M</td>\n",
       "      <td>51</td>\n",
       "      <td>Parda</td>\n",
       "      <td>Ignorado</td>\n",
       "      <td>PE</td>\n",
       "      <td>SRAG não especificado</td>\n",
       "      <td>Ignorado</td>\n",
       "    </tr>\n",
       "    <tr>\n",
       "      <th>82662</th>\n",
       "      <td>M</td>\n",
       "      <td>53</td>\n",
       "      <td>Branca</td>\n",
       "      <td>Fund2</td>\n",
       "      <td>SC</td>\n",
       "      <td>SRAG não especificado</td>\n",
       "      <td>Cura</td>\n",
       "    </tr>\n",
       "    <tr>\n",
       "      <th>305472</th>\n",
       "      <td>M</td>\n",
       "      <td>53</td>\n",
       "      <td>Parda</td>\n",
       "      <td>Fund1</td>\n",
       "      <td>BA</td>\n",
       "      <td>SRAG não especificado</td>\n",
       "      <td>Ignorado</td>\n",
       "    </tr>\n",
       "    <tr>\n",
       "      <th>3633</th>\n",
       "      <td>M</td>\n",
       "      <td>54</td>\n",
       "      <td>Parda</td>\n",
       "      <td>Fund1</td>\n",
       "      <td>MA</td>\n",
       "      <td>SRAG não especificado</td>\n",
       "      <td>Ignorado</td>\n",
       "    </tr>\n",
       "    <tr>\n",
       "      <th>11360</th>\n",
       "      <td>F</td>\n",
       "      <td>55</td>\n",
       "      <td>Ignorado</td>\n",
       "      <td>Ignorado</td>\n",
       "      <td>SP</td>\n",
       "      <td>COVID-19</td>\n",
       "      <td>Cura</td>\n",
       "    </tr>\n",
       "    <tr>\n",
       "      <th>35533</th>\n",
       "      <td>F</td>\n",
       "      <td>56</td>\n",
       "      <td>Parda</td>\n",
       "      <td>Médio</td>\n",
       "      <td>SP</td>\n",
       "      <td>COVID-19</td>\n",
       "      <td>Cura</td>\n",
       "    </tr>\n",
       "    <tr>\n",
       "      <th>230056</th>\n",
       "      <td>M</td>\n",
       "      <td>56</td>\n",
       "      <td>Ignorado</td>\n",
       "      <td>Ignorado</td>\n",
       "      <td>SP</td>\n",
       "      <td>COVID-19</td>\n",
       "      <td>Óbito</td>\n",
       "    </tr>\n",
       "    <tr>\n",
       "      <th>267572</th>\n",
       "      <td>M</td>\n",
       "      <td>56</td>\n",
       "      <td>Branca</td>\n",
       "      <td>Ignorado</td>\n",
       "      <td>SP</td>\n",
       "      <td>COVID-19</td>\n",
       "      <td>Cura</td>\n",
       "    </tr>\n",
       "    <tr>\n",
       "      <th>350857</th>\n",
       "      <td>F</td>\n",
       "      <td>56</td>\n",
       "      <td>Parda</td>\n",
       "      <td>Médio</td>\n",
       "      <td>MA</td>\n",
       "      <td>COVID-19</td>\n",
       "      <td>Ignorado</td>\n",
       "    </tr>\n",
       "    <tr>\n",
       "      <th>206309</th>\n",
       "      <td>F</td>\n",
       "      <td>58</td>\n",
       "      <td>Branca</td>\n",
       "      <td>Médio</td>\n",
       "      <td>PR</td>\n",
       "      <td>SRAG não especificado</td>\n",
       "      <td>Ignorado</td>\n",
       "    </tr>\n",
       "    <tr>\n",
       "      <th>258995</th>\n",
       "      <td>F</td>\n",
       "      <td>58</td>\n",
       "      <td>Indígena</td>\n",
       "      <td>Fund2</td>\n",
       "      <td>AM</td>\n",
       "      <td>COVID-19</td>\n",
       "      <td>Óbito</td>\n",
       "    </tr>\n",
       "    <tr>\n",
       "      <th>104045</th>\n",
       "      <td>F</td>\n",
       "      <td>60</td>\n",
       "      <td>Ignorado</td>\n",
       "      <td>Ignorado</td>\n",
       "      <td>SP</td>\n",
       "      <td>COVID-19</td>\n",
       "      <td>Ignorado</td>\n",
       "    </tr>\n",
       "    <tr>\n",
       "      <th>346434</th>\n",
       "      <td>M</td>\n",
       "      <td>60</td>\n",
       "      <td>Parda</td>\n",
       "      <td>Fund1</td>\n",
       "      <td>MG</td>\n",
       "      <td>COVID-19</td>\n",
       "      <td>Cura</td>\n",
       "    </tr>\n",
       "    <tr>\n",
       "      <th>111251</th>\n",
       "      <td>M</td>\n",
       "      <td>63</td>\n",
       "      <td>Parda</td>\n",
       "      <td>Fund1</td>\n",
       "      <td>AM</td>\n",
       "      <td>COVID-19</td>\n",
       "      <td>Óbito</td>\n",
       "    </tr>\n",
       "    <tr>\n",
       "      <th>210381</th>\n",
       "      <td>M</td>\n",
       "      <td>65</td>\n",
       "      <td>Branca</td>\n",
       "      <td>Fund1</td>\n",
       "      <td>SP</td>\n",
       "      <td>SRAG não especificado</td>\n",
       "      <td>Cura</td>\n",
       "    </tr>\n",
       "    <tr>\n",
       "      <th>68020</th>\n",
       "      <td>M</td>\n",
       "      <td>66</td>\n",
       "      <td>Parda</td>\n",
       "      <td>Ignorado</td>\n",
       "      <td>SP</td>\n",
       "      <td>COVID-19</td>\n",
       "      <td>Óbito</td>\n",
       "    </tr>\n",
       "    <tr>\n",
       "      <th>1334</th>\n",
       "      <td>F</td>\n",
       "      <td>69</td>\n",
       "      <td>Branca</td>\n",
       "      <td>Fund1</td>\n",
       "      <td>SP</td>\n",
       "      <td>SRAG não especificado</td>\n",
       "      <td>Óbito</td>\n",
       "    </tr>\n",
       "    <tr>\n",
       "      <th>263187</th>\n",
       "      <td>M</td>\n",
       "      <td>69</td>\n",
       "      <td>Parda</td>\n",
       "      <td>Ignorado</td>\n",
       "      <td>PA</td>\n",
       "      <td>COVID-19</td>\n",
       "      <td>Ignorado</td>\n",
       "    </tr>\n",
       "    <tr>\n",
       "      <th>277217</th>\n",
       "      <td>F</td>\n",
       "      <td>72</td>\n",
       "      <td>Branca</td>\n",
       "      <td>Ignorado</td>\n",
       "      <td>RJ</td>\n",
       "      <td>SRAG não especificado</td>\n",
       "      <td>Óbito</td>\n",
       "    </tr>\n",
       "    <tr>\n",
       "      <th>131027</th>\n",
       "      <td>M</td>\n",
       "      <td>72</td>\n",
       "      <td>Branca</td>\n",
       "      <td>Ignorado</td>\n",
       "      <td>RJ</td>\n",
       "      <td>SRAG não especificado</td>\n",
       "      <td>Ignorado</td>\n",
       "    </tr>\n",
       "    <tr>\n",
       "      <th>257572</th>\n",
       "      <td>M</td>\n",
       "      <td>74</td>\n",
       "      <td>Ignorado</td>\n",
       "      <td>Ignorado</td>\n",
       "      <td>SP</td>\n",
       "      <td>SRAG não especificado</td>\n",
       "      <td>Cura</td>\n",
       "    </tr>\n",
       "    <tr>\n",
       "      <th>133090</th>\n",
       "      <td>F</td>\n",
       "      <td>76</td>\n",
       "      <td>Parda</td>\n",
       "      <td>Ignorado</td>\n",
       "      <td>CE</td>\n",
       "      <td>COVID-19</td>\n",
       "      <td>Cura</td>\n",
       "    </tr>\n",
       "    <tr>\n",
       "      <th>346650</th>\n",
       "      <td>F</td>\n",
       "      <td>76</td>\n",
       "      <td>Parda</td>\n",
       "      <td>Médio</td>\n",
       "      <td>PA</td>\n",
       "      <td>SRAG não especificado</td>\n",
       "      <td>Cura</td>\n",
       "    </tr>\n",
       "    <tr>\n",
       "      <th>112068</th>\n",
       "      <td>F</td>\n",
       "      <td>76</td>\n",
       "      <td>Branca</td>\n",
       "      <td>Ignorado</td>\n",
       "      <td>RJ</td>\n",
       "      <td>COVID-19</td>\n",
       "      <td>Óbito</td>\n",
       "    </tr>\n",
       "    <tr>\n",
       "      <th>118788</th>\n",
       "      <td>M</td>\n",
       "      <td>76</td>\n",
       "      <td>Ignorado</td>\n",
       "      <td>Ignorado</td>\n",
       "      <td>AL</td>\n",
       "      <td>SRAG não especificado</td>\n",
       "      <td>Ignorado</td>\n",
       "    </tr>\n",
       "    <tr>\n",
       "      <th>52790</th>\n",
       "      <td>F</td>\n",
       "      <td>76</td>\n",
       "      <td>Branca</td>\n",
       "      <td>Ignorado</td>\n",
       "      <td>SC</td>\n",
       "      <td>SRAG não especificado</td>\n",
       "      <td>Óbito</td>\n",
       "    </tr>\n",
       "    <tr>\n",
       "      <th>279311</th>\n",
       "      <td>M</td>\n",
       "      <td>77</td>\n",
       "      <td>Ignorado</td>\n",
       "      <td>Ignorado</td>\n",
       "      <td>SP</td>\n",
       "      <td>SRAG não especificado</td>\n",
       "      <td>Ignorado</td>\n",
       "    </tr>\n",
       "    <tr>\n",
       "      <th>151445</th>\n",
       "      <td>M</td>\n",
       "      <td>78</td>\n",
       "      <td>Ignorado</td>\n",
       "      <td>Ignorado</td>\n",
       "      <td>SP</td>\n",
       "      <td>COVID-19</td>\n",
       "      <td>Ignorado</td>\n",
       "    </tr>\n",
       "    <tr>\n",
       "      <th>75852</th>\n",
       "      <td>M</td>\n",
       "      <td>79</td>\n",
       "      <td>Branca</td>\n",
       "      <td>Ignorado</td>\n",
       "      <td>RJ</td>\n",
       "      <td>SRAG não especificado</td>\n",
       "      <td>Ignorado</td>\n",
       "    </tr>\n",
       "    <tr>\n",
       "      <th>332885</th>\n",
       "      <td>F</td>\n",
       "      <td>83</td>\n",
       "      <td>Parda</td>\n",
       "      <td>Ignorado</td>\n",
       "      <td>BA</td>\n",
       "      <td>SRAG não especificado</td>\n",
       "      <td>Ignorado</td>\n",
       "    </tr>\n",
       "    <tr>\n",
       "      <th>204838</th>\n",
       "      <td>F</td>\n",
       "      <td>85</td>\n",
       "      <td>Parda</td>\n",
       "      <td>Ignorado</td>\n",
       "      <td>BA</td>\n",
       "      <td>SRAG não especificado</td>\n",
       "      <td>Ignorado</td>\n",
       "    </tr>\n",
       "  </tbody>\n",
       "</table>\n",
       "</div>"
      ],
      "text/plain": [
       "       CS_SEXO  NU_IDADE_N   CS_RACA     CS_ESCOL_N SG_UF  \\\n",
       "106793       M           1  Ignorado  Não se aplica    SP   \n",
       "9993         M           2    Branca  Não se aplica    MT   \n",
       "155617       M           6    Branca  Não se aplica    PR   \n",
       "286318       F          16     Parda          Médio    AM   \n",
       "50941        F          23    Branca       Superior    SP   \n",
       "295481       M          23     Parda       Ignorado    AM   \n",
       "64325        M          31    Branca       Ignorado    SP   \n",
       "127141       M          33  Ignorado       Ignorado    ES   \n",
       "162618       F          34  Ignorado       Ignorado    RJ   \n",
       "343858       F          35    Branca       Superior    RS   \n",
       "91888        M          36    Branca       Ignorado    SP   \n",
       "31286        M          36    Branca       Superior    SP   \n",
       "355173       F          38  Ignorado       Ignorado    MG   \n",
       "44292        M          39  Ignorado       Ignorado    PR   \n",
       "180753       F          43     Parda       Ignorado    PA   \n",
       "353344       F          43  Ignorado       Ignorado    SP   \n",
       "73576        M          49    Branca       Superior    SP   \n",
       "311642       M          50    Branca          Fund2    MT   \n",
       "272170       M          50    Branca            Sem    RS   \n",
       "168195       M          51     Parda       Ignorado    PE   \n",
       "82662        M          53    Branca          Fund2    SC   \n",
       "305472       M          53     Parda          Fund1    BA   \n",
       "3633         M          54     Parda          Fund1    MA   \n",
       "11360        F          55  Ignorado       Ignorado    SP   \n",
       "35533        F          56     Parda          Médio    SP   \n",
       "230056       M          56  Ignorado       Ignorado    SP   \n",
       "267572       M          56    Branca       Ignorado    SP   \n",
       "350857       F          56     Parda          Médio    MA   \n",
       "206309       F          58    Branca          Médio    PR   \n",
       "258995       F          58  Indígena          Fund2    AM   \n",
       "104045       F          60  Ignorado       Ignorado    SP   \n",
       "346434       M          60     Parda          Fund1    MG   \n",
       "111251       M          63     Parda          Fund1    AM   \n",
       "210381       M          65    Branca          Fund1    SP   \n",
       "68020        M          66     Parda       Ignorado    SP   \n",
       "1334         F          69    Branca          Fund1    SP   \n",
       "263187       M          69     Parda       Ignorado    PA   \n",
       "277217       F          72    Branca       Ignorado    RJ   \n",
       "131027       M          72    Branca       Ignorado    RJ   \n",
       "257572       M          74  Ignorado       Ignorado    SP   \n",
       "133090       F          76     Parda       Ignorado    CE   \n",
       "346650       F          76     Parda          Médio    PA   \n",
       "112068       F          76    Branca       Ignorado    RJ   \n",
       "118788       M          76  Ignorado       Ignorado    AL   \n",
       "52790        F          76    Branca       Ignorado    SC   \n",
       "279311       M          77  Ignorado       Ignorado    SP   \n",
       "151445       M          78  Ignorado       Ignorado    SP   \n",
       "75852        M          79    Branca       Ignorado    RJ   \n",
       "332885       F          83     Parda       Ignorado    BA   \n",
       "204838       F          85     Parda       Ignorado    BA   \n",
       "\n",
       "                               CLASSI_FIN  EVOLUCAO  \n",
       "106793              SRAG não especificado      Cura  \n",
       "9993                SRAG não especificado      Cura  \n",
       "155617  SRAG por outro vírus respiratório      Cura  \n",
       "286318                           COVID-19      Cura  \n",
       "50941                            COVID-19      Cura  \n",
       "295481                           COVID-19      Cura  \n",
       "64325               SRAG não especificado      Cura  \n",
       "127141              SRAG não especificado  Ignorado  \n",
       "162618                           COVID-19      Cura  \n",
       "343858              SRAG não especificado  Ignorado  \n",
       "91888                            COVID-19      Cura  \n",
       "31286                            COVID-19      Cura  \n",
       "355173              SRAG não especificado  Ignorado  \n",
       "44292               SRAG não especificado      Cura  \n",
       "180753                           COVID-19      Cura  \n",
       "353344                           COVID-19  Ignorado  \n",
       "73576                            COVID-19      Cura  \n",
       "311642                           COVID-19  Ignorado  \n",
       "272170                           COVID-19     Óbito  \n",
       "168195              SRAG não especificado  Ignorado  \n",
       "82662               SRAG não especificado      Cura  \n",
       "305472              SRAG não especificado  Ignorado  \n",
       "3633                SRAG não especificado  Ignorado  \n",
       "11360                            COVID-19      Cura  \n",
       "35533                            COVID-19      Cura  \n",
       "230056                           COVID-19     Óbito  \n",
       "267572                           COVID-19      Cura  \n",
       "350857                           COVID-19  Ignorado  \n",
       "206309              SRAG não especificado  Ignorado  \n",
       "258995                           COVID-19     Óbito  \n",
       "104045                           COVID-19  Ignorado  \n",
       "346434                           COVID-19      Cura  \n",
       "111251                           COVID-19     Óbito  \n",
       "210381              SRAG não especificado      Cura  \n",
       "68020                            COVID-19     Óbito  \n",
       "1334                SRAG não especificado     Óbito  \n",
       "263187                           COVID-19  Ignorado  \n",
       "277217              SRAG não especificado     Óbito  \n",
       "131027              SRAG não especificado  Ignorado  \n",
       "257572              SRAG não especificado      Cura  \n",
       "133090                           COVID-19      Cura  \n",
       "346650              SRAG não especificado      Cura  \n",
       "112068                           COVID-19     Óbito  \n",
       "118788              SRAG não especificado  Ignorado  \n",
       "52790               SRAG não especificado     Óbito  \n",
       "279311              SRAG não especificado  Ignorado  \n",
       "151445                           COVID-19  Ignorado  \n",
       "75852               SRAG não especificado  Ignorado  \n",
       "332885              SRAG não especificado  Ignorado  \n",
       "204838              SRAG não especificado  Ignorado  "
      ]
     },
     "execution_count": 6,
     "metadata": {},
     "output_type": "execute_result"
    }
   ],
   "source": [
    "df.sample(50).sort_values('NU_IDADE_N')"
   ]
  },
  {
   "cell_type": "code",
   "execution_count": 7,
   "metadata": {},
   "outputs": [
    {
     "data": {
      "text/plain": [
       "Text(0.5, 1.0, 'Cinco estados com mais casos de SRAG')"
      ]
     },
     "execution_count": 7,
     "metadata": {},
     "output_type": "execute_result"
    },
    {
     "data": {
      "image/png": "[encoded data removed]",
      "text/plain": [
       "<Figure size 432x288 with 1 Axes>"
      ]
     },
     "metadata": {
      "needs_background": "light"
     },
     "output_type": "display_data"
    }
   ],
   "source": [
    "df.groupby('SG_UF').size().sort_values().tail(5).plot(kind='barh').set_title('Cinco estados com mais casos de SRAG', fontsize=22)"
   ]
  },
  {
   "cell_type": "code",
   "execution_count": 8,
   "metadata": {},
   "outputs": [
    {
     "data": {
      "text/plain": [
       "<matplotlib.axes._subplots.AxesSubplot at 0x20d0cb28ac0>"
      ]
     },
     "execution_count": 8,
     "metadata": {},
     "output_type": "execute_result"
    },
    {
     "data": {
      "image/png": "[encoded data removed]",
      "text/plain": [
       "<Figure size 432x288 with 1 Axes>"
      ]
     },
     "metadata": {
      "needs_background": "light"
     },
     "output_type": "display_data"
    }
   ],
   "source": [
    "df.query('CS_RACA != \"Ignorado\"').groupby('CS_RACA').size().sort_values().plot(kind='barh')"
   ]
  },
  {
   "cell_type": "code",
   "execution_count": 9,
   "metadata": {},
   "outputs": [
    {
     "data": {
      "text/plain": [
       "CS_RACA\n",
       "Ignorado    114360\n",
       "Branca      112116\n",
       "Parda       108838\n",
       "Preta        16796\n",
       "Amarela       3123\n",
       "Indígena       955\n",
       "dtype: int64"
      ]
     },
     "execution_count": 9,
     "metadata": {},
     "output_type": "execute_result"
    }
   ],
   "source": [
    "df.groupby('CS_RACA').size().sort_values(ascending=False)"
   ]
  },
  {
   "cell_type": "code",
   "execution_count": 10,
   "metadata": {},
   "outputs": [
    {
     "data": {
      "text/plain": [
       "CS_ESCOL_N\n",
       "Ignorado         225631\n",
       "Médio             36922\n",
       "Fund1             31913\n",
       "Fund2             20960\n",
       "Superior          18363\n",
       "Não se aplica     12636\n",
       "Sem                9763\n",
       "dtype: int64"
      ]
     },
     "execution_count": 10,
     "metadata": {},
     "output_type": "execute_result"
    }
   ],
   "source": [
    "df.groupby('CS_ESCOL_N').size().sort_values(ascending=False)"
   ]
  },
  {
   "cell_type": "code",
   "execution_count": 11,
   "metadata": {},
   "outputs": [
    {
     "data": {
      "text/plain": [
       "Text(0.5, 1.0, 'Óbito por SRAG por raça')"
      ]
     },
     "execution_count": 11,
     "metadata": {},
     "output_type": "execute_result"
    },
    {
     "data": {
      "image/png": "[encoded data removed]",
      "text/plain": [
       "<Figure size 432x288 with 1 Axes>"
      ]
     },
     "metadata": {
      "needs_background": "light"
     },
     "output_type": "display_data"
    }
   ],
   "source": [
    "df.query('EVOLUCAO == \"Óbito\" and CS_RACA != \"Ignorado\"').groupby('CS_RACA').size().plot(kind='bar').set_title('Óbito por SRAG por raça', fontsize=22)"
   ]
  },
  {
   "cell_type": "code",
   "execution_count": 12,
   "metadata": {},
   "outputs": [
    {
     "data": {
      "text/plain": [
       "Text(0.5, 1.0, 'Índice de cura de SRAG por raça')"
      ]
     },
     "execution_count": 12,
     "metadata": {},
     "output_type": "execute_result"
    },
    {
     "data": {
      "image/png": "[encoded data removed]",
      "text/plain": [
       "<Figure size 432x288 with 1 Axes>"
      ]
     },
     "metadata": {
      "needs_background": "light"
     },
     "output_type": "display_data"
    }
   ],
   "source": [
    "df.query('EVOLUCAO == \"Cura\" and CS_RACA != \"Ignorado\"').groupby('CS_RACA').size().plot(kind='bar').set_title('Índice de cura de SRAG por raça', fontsize=22)"
   ]
  },
  {
   "cell_type": "code",
   "execution_count": 13,
   "metadata": {},
   "outputs": [
    {
     "data": {
      "text/plain": [
       "Text(0.5, 1.0, 'Óbito por SRAG por nível de escolaridade')"
      ]
     },
     "execution_count": 13,
     "metadata": {},
     "output_type": "execute_result"
    },
    {
     "data": {
      "image/png": "[encoded data removed]",
      "text/plain": [
       "<Figure size 432x288 with 1 Axes>"
      ]
     },
     "metadata": {
      "needs_background": "light"
     },
     "output_type": "display_data"
    }
   ],
   "source": [
    "df.query('EVOLUCAO == \"Óbito\" and CS_ESCOL_N != \"Ignorado\"').groupby('CS_ESCOL_N').size().plot(kind='bar').set_title('Óbito por SRAG por nível de escolaridade', fontsize = 22)"
   ]
  },
  {
   "cell_type": "code",
   "execution_count": 14,
   "metadata": {},
   "outputs": [
    {
     "data": {
      "text/plain": [
       "Text(0.5, 1.0, 'Índice de cura de SRAG por nível de escolaridade')"
      ]
     },
     "execution_count": 14,
     "metadata": {},
     "output_type": "execute_result"
    },
    {
     "data": {
      "image/png": "[encoded data removed]",
      "text/plain": [
       "<Figure size 432x288 with 1 Axes>"
      ]
     },
     "metadata": {
      "needs_background": "light"
     },
     "output_type": "display_data"
    }
   ],
   "source": [
    "df.query('EVOLUCAO == \"Cura\" and CS_ESCOL_N != \"Ignorado\"').groupby('CS_ESCOL_N').size().plot(kind='bar').set_title('Índice de cura de SRAG por nível de escolaridade', fontsize = 22)"
   ]
  },
  {
   "cell_type": "code",
   "execution_count": 15,
   "metadata": {},
   "outputs": [
    {
     "data": {
      "text/plain": [
       "EVOLUCAO\n",
       "Cura        138626\n",
       "Ignorado    132348\n",
       "Óbito        85214\n",
       "dtype: int64"
      ]
     },
     "execution_count": 15,
     "metadata": {},
     "output_type": "execute_result"
    }
   ],
   "source": [
    "df.groupby('EVOLUCAO').size().sort_values(ascending=False)"
   ]
  },
  {
   "cell_type": "code",
   "execution_count": 16,
   "metadata": {},
   "outputs": [
    {
     "data": {
      "text/plain": [
       "Text(0.5, 1.0, 'Óbito por COVID-19 por idade')"
      ]
     },
     "execution_count": 16,
     "metadata": {},
     "output_type": "execute_result"
    },
    {
     "data": {
      "image/png": "[encoded data removed]",
      "text/plain": [
       "<Figure size 432x288 with 1 Axes>"
      ]
     },
     "metadata": {
      "needs_background": "light"
     },
     "output_type": "display_data"
    }
   ],
   "source": [
    "df.query('CLASSI_FIN == \"COVID-19\" and EVOLUCAO == \"Óbito\"').groupby('NU_IDADE_N').size().plot(kind='line').set_title('Óbito por COVID-19 por idade', fontsize=22)"
   ]
  },
  {
   "cell_type": "code",
   "execution_count": 17,
   "metadata": {},
   "outputs": [
    {
     "data": {
      "text/plain": [
       "Text(0.5, 1.0, 'Óbitos por SRAG por UF')"
      ]
     },
     "execution_count": 17,
     "metadata": {},
     "output_type": "execute_result"
    },
    {
     "data": {
      "image/png": "[encoded data removed]",
      "text/plain": [
       "<Figure size 432x288 with 1 Axes>"
      ]
     },
     "metadata": {
      "needs_background": "light"
     },
     "output_type": "display_data"
    }
   ],
   "source": [
    "df.query('EVOLUCAO == \"Óbito\"').groupby('SG_UF').size().plot(kind='bar').set_title('Óbitos por SRAG por UF', fontsize=22)"
   ]
  },
  {
   "cell_type": "code",
   "execution_count": 18,
   "metadata": {},
   "outputs": [
    {
     "data": {
      "text/plain": [
       "Text(0.5, 1.0, 'Óbitos por COVID por sexo')"
      ]
     },
     "execution_count": 18,
     "metadata": {},
     "output_type": "execute_result"
    },
    {
     "data": {
      "image/png": "[encoded data removed]",
      "text/plain": [
       "<Figure size 432x288 with 1 Axes>"
      ]
     },
     "metadata": {
      "needs_background": "light"
     },
     "output_type": "display_data"
    }
   ],
   "source": [
    "df.query('EVOLUCAO == \"Óbito\" and CLASSI_FIN == \"COVID-19\"').groupby('CS_SEXO').size().plot(kind='bar').set_title('Óbitos por COVID por sexo', fontsize=22)"
   ]
  },
  {
   "cell_type": "markdown",
   "metadata": {},
   "source": [
    "<b> O seguinte trabalho foi utilizado como referência:</b>\n",
    "\n",
    "<b>https://github.com/fmasanori/CursoPyLadiesSP/blob/master/OpendataSUS%20SRAG%202020.ipynb</b>\n",
    "\n",
    "<b>Autor: Fernando Masanori</b>"
   ]
  }
 ],
 "metadata": {
  "kernelspec": {
   "display_name": "Python 3",
   "language": "python",
   "name": "python3"
  },
  "language_info": {
   "codemirror_mode": {
    "name": "ipython",
    "version": 3
   },
   "file_extension": ".py",
   "mimetype": "text/x-python",
   "name": "python",
   "nbconvert_exporter": "python",
   "pygments_lexer": "ipython3",
   "version": "3.8.3"
  }
 },
 "nbformat": 4,
 "nbformat_minor": 4
}
